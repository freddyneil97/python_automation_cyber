{
 "cells": [
  {
   "cell_type": "code",
   "execution_count": 39,
   "id": "ebd77de0",
   "metadata": {},
   "outputs": [],
   "source": [
    "# Define a function named `update_file` that takes in two parameters: `import_file` and `remove_list`\n",
    "# and combines the steps you've written in this lab leading up to this\n",
    "\n",
    "def update_file(import_file, remove_list):\n",
    "\n",
    "  # Build `with` statement to read in the initial contents of the file\n",
    "\n",
    "  with open(import_file, \"r\") as file:\n",
    "\n",
    "    # `.read()` to read the imported file and store it in a variable named `ip_addresses`\n",
    "\n",
    "    ip_addresses = file.read()\n",
    "\n",
    "  # `.split()` to convert `ip_addresses` from a string to a list\n",
    "\n",
    "  ip_addresses = ip_addresses.split()\n",
    "\n",
    "  # Build iterative statement\n",
    "  # Name loop variable `element`\n",
    "  # Loop through `ip_addresses`\n",
    "\n",
    "  for element in ip_addresses:\n",
    "    \n",
    "    # Build conditional statement\n",
    "    # If current element is in `remove_list`,\n",
    "    \n",
    "    if element in remove_list:\n",
    "\n",
    "      # then current element should be removed from `ip_addresses`\n",
    "\n",
    "      ip_addresses.remove(element)\n",
    "\n",
    "  # Convert `ip_addresses` back to a string so that it can be written into the text file \n",
    "\n",
    "  ip_addresses = \"\\n\".join(ip_addresses)  \n",
    "\n",
    "  # Build `with` statement to rewrite the original file\n",
    "\n",
    "  with open(import_file, \"w\") as file:\n",
    "\n",
    "    # Rewrite the file, replacing its contents with `ip_addresses`\n",
    "\n",
    "    file.write(ip_addresses)"
   ]
  },
  {
   "cell_type": "code",
   "execution_count": 40,
   "id": "e2d9f591",
   "metadata": {},
   "outputs": [
    {
     "name": "stdout",
     "output_type": "stream",
     "text": [
      "192.168.205.12\n",
      "192.168.97.225\n",
      "192.168.6.9\n",
      "192.168.52.90\n",
      "192.168.158.170\n",
      "192.168.90.124\n",
      "192.168.186.176\n",
      "192.168.133.188\n",
      "192.168.201.40\n",
      "192.168.218.219\n",
      "192.168.52.37\n",
      "192.168.156.224\n",
      "192.168.60.153\n",
      "192.168.58.57\n",
      "192.168.69.116\n"
     ]
    }
   ],
   "source": [
    "# Call `update_file()` and pass in \"allow_list.txt\" and a list of IP addresses to be removed\n",
    "\n",
    "update_file(\"allow_list.txt\", [\"192.168.25.60\", \"192.168.140.81\", \"192.168.203.198\"])\n",
    "\n",
    "# Build `with` statement to read in the updated file\n",
    "\n",
    "with open(\"allow_list.txt\", \"r\") as file:\n",
    "\n",
    "  # Read in the updated file and store the contents in `text`\n",
    "\n",
    "  text = file.read()\n",
    "\n",
    "# Display the contents of `text`\n",
    "\n",
    "print(text)"
   ]
  },
  {
   "cell_type": "code",
   "execution_count": null,
   "id": "95c1cf9b",
   "metadata": {},
   "outputs": [],
   "source": []
  }
 ],
 "metadata": {
  "kernelspec": {
   "display_name": "Python 3 (ipykernel)",
   "language": "python",
   "name": "python3"
  },
  "language_info": {
   "codemirror_mode": {
    "name": "ipython",
    "version": 3
   },
   "file_extension": ".py",
   "mimetype": "text/x-python",
   "name": "python",
   "nbconvert_exporter": "python",
   "pygments_lexer": "ipython3",
   "version": "3.11.7"
  }
 },
 "nbformat": 4,
 "nbformat_minor": 5
}
